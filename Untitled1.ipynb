{
 "cells": [
  {
   "cell_type": "code",
   "execution_count": 1,
   "metadata": {},
   "outputs": [],
   "source": [
    "from bs4 import BeautifulSoup\n",
    "import requests"
   ]
  },
  {
   "cell_type": "code",
   "execution_count": 2,
   "metadata": {},
   "outputs": [],
   "source": [
    "response = requests.get('https://www.google.co.kr/search?q=박보영&source=lnms&tbm=isch&sa=X&ved=0ahUKEwjqzdHerNbeAhXGW7wKHaNYCykQ_AUIDigB&biw=1853&bih=950')"
   ]
  },
  {
   "cell_type": "code",
   "execution_count": 3,
   "metadata": {},
   "outputs": [],
   "source": [
    "open('pby.html', 'wt').write(response.text)\n",
    "html = open('pby.html', 'rt').read()\n",
    "soup = BeautifulSoup(html, 'lxml')"
   ]
  },
  {
   "cell_type": "code",
   "execution_count": 29,
   "metadata": {},
   "outputs": [],
   "source": [
    "col_list = soup.find_all('img')"
   ]
  },
  {
   "cell_type": "code",
   "execution_count": 46,
   "metadata": {},
   "outputs": [],
   "source": [
    "li_list = []\n",
    "num = 0\n",
    "for col in col_list:\n",
    "    li_list.append(col.get('src'))    "
   ]
  },
  {
   "cell_type": "code",
   "execution_count": 47,
   "metadata": {},
   "outputs": [
    {
     "data": {
      "text/plain": [
       "['/textinputassistant/tia.png',\n",
       " 'https://encrypted-tbn0.gstatic.com/images?q=tbn:ANd9GcQY4T0GCmdEIuepU1aQnQMlzAgfvaV_GOVnCs8w4UxN-8CtCpPKCocFOMAL',\n",
       " 'https://encrypted-tbn0.gstatic.com/images?q=tbn:ANd9GcTFN-Twy7vj2Y9wM0ofh4pdc6K9I63VcLQgg2ovfHI51SDZx8cG2crYgnpo',\n",
       " 'https://encrypted-tbn0.gstatic.com/images?q=tbn:ANd9GcSYEAwRYatYtZBT3eIZ05YV_KDO61JHfiXiEDuY275otqikoKEm7wOILDtE',\n",
       " 'https://encrypted-tbn0.gstatic.com/images?q=tbn:ANd9GcR7J9R4F-jLwNkQ5sb0YGw2m97J1sspIjf6S_NuYa-b9HBzmv7tWcW5PKSE',\n",
       " 'https://encrypted-tbn0.gstatic.com/images?q=tbn:ANd9GcRdu6TqCizBbZPE7A-0o9S0x_BEuCzd2Jl47kthiaqP1gBYXkjvwXPh3bM',\n",
       " 'https://encrypted-tbn0.gstatic.com/images?q=tbn:ANd9GcRhlPhw6GcIF0hREjKBkQ2TZWfPrhI0iykJDMX6ThssTmM3Zr1exsoqgpYt',\n",
       " 'https://encrypted-tbn0.gstatic.com/images?q=tbn:ANd9GcTbJ2GSaSJz0676Fv0N-AcFtkstA74JX8qxAp3Nq2YAXnAgUmBV0o3VMt4',\n",
       " 'https://encrypted-tbn0.gstatic.com/images?q=tbn:ANd9GcQOsJ2MwCIE4FXJXbWZ0-iDKLJZyw32Kjd-9OTqpuzZzlp7Rv4Ru7WIoNc',\n",
       " 'https://encrypted-tbn0.gstatic.com/images?q=tbn:ANd9GcSbuqfN1n9cInEvhtiOcbbLXFI3eVOAVlHcDDxTajZ-9GKM40rqPrlf0gw',\n",
       " 'https://encrypted-tbn0.gstatic.com/images?q=tbn:ANd9GcQuWpq8H6lvRjUVZ_2LUm168d9fRSHVkZW2V2AgiS5vcSrVyppQu79BbcU',\n",
       " 'https://encrypted-tbn0.gstatic.com/images?q=tbn:ANd9GcQMrYq2M0PhMyUonpWJ7dmE5LOHQt4mfQdKueLa_KgPAn9SUmRVbAw-dM_x',\n",
       " 'https://encrypted-tbn0.gstatic.com/images?q=tbn:ANd9GcQTjnEIAwtUrlXsCywc5jHA2jIjUjb6WVaCf3GCO5RKnE-g7qpRGNpr0bM',\n",
       " 'https://encrypted-tbn0.gstatic.com/images?q=tbn:ANd9GcSZ0L6agXdQ6Oi1A7OtjakbnQZ3lmsQt1JFzitkkcFVg2ZumyFv3B201UE',\n",
       " 'https://encrypted-tbn0.gstatic.com/images?q=tbn:ANd9GcT3Nolwg-XrWISRLIm4j5oDYXOX9B-z5hNsRp9lhQInwQqXg7P4xuJbNQh_',\n",
       " 'https://encrypted-tbn0.gstatic.com/images?q=tbn:ANd9GcS2UAHk7YJhw54GvKJPFkzmifUUFtjBhNlx-peKhg4769u5qz3hbcYYKP0',\n",
       " 'https://encrypted-tbn0.gstatic.com/images?q=tbn:ANd9GcT-FsTz8COd0MYB8gqip0ziTrw1i5USIk01GEpbCdQVROE1jhf4Atituns',\n",
       " 'https://encrypted-tbn0.gstatic.com/images?q=tbn:ANd9GcT09X6dUMb0IamBZlpy-742WKjD-Hou_gUWNcvUsZg-Ams3pxFsjW9Z-nhH',\n",
       " 'https://encrypted-tbn0.gstatic.com/images?q=tbn:ANd9GcTNgl_DcmD-YjsH7bByw8zzBxeoZOgfMn_K958ts7i_7vfoasTiPWELBNRH',\n",
       " 'https://encrypted-tbn0.gstatic.com/images?q=tbn:ANd9GcQvSnOogdlYZ2fBCcqpnXtVugqUd60iznUn4bjyZJZdrvyqjB4m7LOD4Is',\n",
       " 'https://encrypted-tbn0.gstatic.com/images?q=tbn:ANd9GcRbaNg98UvtQvCp1cM14CD2sWMQFsADoCrKkiWPu0-mYFlNGLTsHJ_6dXQ']"
      ]
     },
     "execution_count": 47,
     "metadata": {},
     "output_type": "execute_result"
    }
   ],
   "source": [
    "li_list"
   ]
  },
  {
   "cell_type": "code",
   "execution_count": null,
   "metadata": {},
   "outputs": [],
   "source": [
    "for "
   ]
  }
 ],
 "metadata": {
  "kernelspec": {
   "display_name": "Python 3",
   "language": "python",
   "name": "python3"
  },
  "language_info": {
   "codemirror_mode": {
    "name": "ipython",
    "version": 3
   },
   "file_extension": ".py",
   "mimetype": "text/x-python",
   "name": "python",
   "nbconvert_exporter": "python",
   "pygments_lexer": "ipython3",
   "version": "3.6.6"
  }
 },
 "nbformat": 4,
 "nbformat_minor": 2
}
